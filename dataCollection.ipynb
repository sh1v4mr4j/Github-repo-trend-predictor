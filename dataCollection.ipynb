{
 "cells": [
  {
   "cell_type": "code",
   "execution_count": 1,
   "metadata": {},
   "outputs": [
    {
     "name": "stdout",
     "output_type": "stream",
     "text": [
      "Requirement already satisfied: apache-flink in /Users/shivamraj/anaconda3/lib/python3.11/site-packages (1.20.0)\n",
      "Requirement already satisfied: py4j==0.10.9.7 in /Users/shivamraj/anaconda3/lib/python3.11/site-packages (from apache-flink) (0.10.9.7)\n",
      "Requirement already satisfied: python-dateutil<3,>=2.8.0 in /Users/shivamraj/anaconda3/lib/python3.11/site-packages (from apache-flink) (2.8.2)\n",
      "Requirement already satisfied: apache-beam<2.49.0,>=2.43.0 in /Users/shivamraj/anaconda3/lib/python3.11/site-packages (from apache-flink) (2.48.0)\n",
      "Requirement already satisfied: cloudpickle>=2.2.0 in /Users/shivamraj/anaconda3/lib/python3.11/site-packages (from apache-flink) (2.2.1)\n",
      "Requirement already satisfied: avro-python3!=1.9.2,>=1.8.1 in /Users/shivamraj/anaconda3/lib/python3.11/site-packages (from apache-flink) (1.10.2)\n",
      "Requirement already satisfied: pytz>=2018.3 in /Users/shivamraj/anaconda3/lib/python3.11/site-packages (from apache-flink) (2023.3.post1)\n",
      "Requirement already satisfied: fastavro!=1.8.0,>=1.1.0 in /Users/shivamraj/anaconda3/lib/python3.11/site-packages (from apache-flink) (1.9.7)\n",
      "Requirement already satisfied: requests>=2.26.0 in /Users/shivamraj/anaconda3/lib/python3.11/site-packages (from apache-flink) (2.31.0)\n",
      "Requirement already satisfied: protobuf>=3.19.0 in /Users/shivamraj/anaconda3/lib/python3.11/site-packages (from apache-flink) (4.23.4)\n",
      "Requirement already satisfied: numpy>=1.22.4 in /Users/shivamraj/anaconda3/lib/python3.11/site-packages (from apache-flink) (1.24.3)\n",
      "Requirement already satisfied: pandas>=1.3.0 in /Users/shivamraj/anaconda3/lib/python3.11/site-packages (from apache-flink) (2.0.3)\n",
      "Requirement already satisfied: pyarrow>=5.0.0 in /Users/shivamraj/anaconda3/lib/python3.11/site-packages (from apache-flink) (11.0.0)\n",
      "Requirement already satisfied: httplib2>=0.19.0 in /Users/shivamraj/anaconda3/lib/python3.11/site-packages (from apache-flink) (0.22.0)\n",
      "Requirement already satisfied: ruamel.yaml>=0.18.4 in /Users/shivamraj/anaconda3/lib/python3.11/site-packages (from apache-flink) (0.18.6)\n",
      "Requirement already satisfied: apache-flink-libraries<1.20.1,>=1.20.0 in /Users/shivamraj/anaconda3/lib/python3.11/site-packages (from apache-flink) (1.20.0)\n",
      "Requirement already satisfied: pemja==0.4.1 in /Users/shivamraj/anaconda3/lib/python3.11/site-packages (from apache-flink) (0.4.1)\n",
      "Requirement already satisfied: find-libpython in /Users/shivamraj/anaconda3/lib/python3.11/site-packages (from pemja==0.4.1->apache-flink) (0.4.0)\n",
      "Requirement already satisfied: crcmod<2.0,>=1.7 in /Users/shivamraj/anaconda3/lib/python3.11/site-packages (from apache-beam<2.49.0,>=2.43.0->apache-flink) (1.7)\n",
      "Requirement already satisfied: orjson<4.0 in /Users/shivamraj/anaconda3/lib/python3.11/site-packages (from apache-beam<2.49.0,>=2.43.0->apache-flink) (3.10.11)\n",
      "Requirement already satisfied: dill<0.3.2,>=0.3.1.1 in /Users/shivamraj/anaconda3/lib/python3.11/site-packages (from apache-beam<2.49.0,>=2.43.0->apache-flink) (0.3.1.1)\n",
      "Requirement already satisfied: fasteners<1.0,>=0.3 in /Users/shivamraj/anaconda3/lib/python3.11/site-packages (from apache-beam<2.49.0,>=2.43.0->apache-flink) (0.19)\n",
      "Requirement already satisfied: grpcio!=1.48.0,<2,>=1.33.1 in /Users/shivamraj/anaconda3/lib/python3.11/site-packages (from apache-beam<2.49.0,>=2.43.0->apache-flink) (1.67.1)\n",
      "Requirement already satisfied: hdfs<3.0.0,>=2.1.0 in /Users/shivamraj/anaconda3/lib/python3.11/site-packages (from apache-beam<2.49.0,>=2.43.0->apache-flink) (2.7.3)\n",
      "Requirement already satisfied: objsize<0.7.0,>=0.6.1 in /Users/shivamraj/anaconda3/lib/python3.11/site-packages (from apache-beam<2.49.0,>=2.43.0->apache-flink) (0.6.1)\n",
      "Requirement already satisfied: pymongo<5.0.0,>=3.8.0 in /Users/shivamraj/anaconda3/lib/python3.11/site-packages (from apache-beam<2.49.0,>=2.43.0->apache-flink) (4.10.1)\n",
      "Requirement already satisfied: proto-plus<2,>=1.7.1 in /Users/shivamraj/anaconda3/lib/python3.11/site-packages (from apache-beam<2.49.0,>=2.43.0->apache-flink) (1.25.0)\n",
      "Requirement already satisfied: pydot<2,>=1.2.0 in /Users/shivamraj/anaconda3/lib/python3.11/site-packages (from apache-beam<2.49.0,>=2.43.0->apache-flink) (1.4.2)\n",
      "Requirement already satisfied: regex>=2020.6.8 in /Users/shivamraj/anaconda3/lib/python3.11/site-packages (from apache-beam<2.49.0,>=2.43.0->apache-flink) (2022.7.9)\n",
      "Requirement already satisfied: typing-extensions>=3.7.0 in /Users/shivamraj/anaconda3/lib/python3.11/site-packages (from apache-beam<2.49.0,>=2.43.0->apache-flink) (4.7.1)\n",
      "Requirement already satisfied: zstandard<1,>=0.18.0 in /Users/shivamraj/anaconda3/lib/python3.11/site-packages (from apache-beam<2.49.0,>=2.43.0->apache-flink) (0.19.0)\n",
      "Requirement already satisfied: pyparsing!=3.0.0,!=3.0.1,!=3.0.2,!=3.0.3,<4,>=2.4.2 in /Users/shivamraj/anaconda3/lib/python3.11/site-packages (from httplib2>=0.19.0->apache-flink) (3.0.9)\n",
      "Requirement already satisfied: tzdata>=2022.1 in /Users/shivamraj/anaconda3/lib/python3.11/site-packages (from pandas>=1.3.0->apache-flink) (2023.3)\n",
      "Requirement already satisfied: six>=1.5 in /Users/shivamraj/anaconda3/lib/python3.11/site-packages (from python-dateutil<3,>=2.8.0->apache-flink) (1.16.0)\n",
      "Requirement already satisfied: charset-normalizer<4,>=2 in /Users/shivamraj/anaconda3/lib/python3.11/site-packages (from requests>=2.26.0->apache-flink) (2.0.4)\n",
      "Requirement already satisfied: idna<4,>=2.5 in /Users/shivamraj/anaconda3/lib/python3.11/site-packages (from requests>=2.26.0->apache-flink) (3.4)\n",
      "Requirement already satisfied: urllib3<3,>=1.21.1 in /Users/shivamraj/anaconda3/lib/python3.11/site-packages (from requests>=2.26.0->apache-flink) (1.26.16)\n",
      "Requirement already satisfied: certifi>=2017.4.17 in /Users/shivamraj/anaconda3/lib/python3.11/site-packages (from requests>=2.26.0->apache-flink) (2023.7.22)\n",
      "Requirement already satisfied: ruamel.yaml.clib>=0.2.7 in /Users/shivamraj/anaconda3/lib/python3.11/site-packages (from ruamel.yaml>=0.18.4->apache-flink) (0.2.12)\n",
      "Requirement already satisfied: docopt in /Users/shivamraj/anaconda3/lib/python3.11/site-packages (from hdfs<3.0.0,>=2.1.0->apache-beam<2.49.0,>=2.43.0->apache-flink) (0.6.2)\n",
      "Requirement already satisfied: dnspython<3.0.0,>=1.16.0 in /Users/shivamraj/anaconda3/lib/python3.11/site-packages (from pymongo<5.0.0,>=3.8.0->apache-beam<2.49.0,>=2.43.0->apache-flink) (2.7.0)\n"
     ]
    }
   ],
   "source": [
    "!pip install apache-flink"
   ]
  },
  {
   "cell_type": "code",
   "execution_count": null,
   "metadata": {},
   "outputs": [],
   "source": []
  }
 ],
 "metadata": {
  "kernelspec": {
   "display_name": "base",
   "language": "python",
   "name": "python3"
  },
  "language_info": {
   "codemirror_mode": {
    "name": "ipython",
    "version": 3
   },
   "file_extension": ".py",
   "mimetype": "text/x-python",
   "name": "python",
   "nbconvert_exporter": "python",
   "pygments_lexer": "ipython3",
   "version": "3.11.5"
  },
  "orig_nbformat": 4
 },
 "nbformat": 4,
 "nbformat_minor": 2
}
