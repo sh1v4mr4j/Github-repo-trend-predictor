{
 "cells": [
  {
   "cell_type": "code",
   "execution_count": 1,
   "metadata": {},
   "outputs": [
    {
     "name": "stdout",
     "output_type": "stream",
     "text": [
      "Requirement already satisfied: torch in /Users/shivamraj/anaconda3/lib/python3.11/site-packages (2.1.1)\n",
      "Requirement already satisfied: filelock in /Users/shivamraj/anaconda3/lib/python3.11/site-packages (from torch) (3.9.0)\n",
      "Requirement already satisfied: typing-extensions in /Users/shivamraj/anaconda3/lib/python3.11/site-packages (from torch) (4.7.1)\n",
      "Requirement already satisfied: sympy in /Users/shivamraj/anaconda3/lib/python3.11/site-packages (from torch) (1.11.1)\n",
      "Requirement already satisfied: networkx in /Users/shivamraj/anaconda3/lib/python3.11/site-packages (from torch) (3.1)\n",
      "Requirement already satisfied: jinja2 in /Users/shivamraj/anaconda3/lib/python3.11/site-packages (from torch) (3.1.2)\n",
      "Requirement already satisfied: fsspec in /Users/shivamraj/anaconda3/lib/python3.11/site-packages (from torch) (2023.4.0)\n",
      "Requirement already satisfied: MarkupSafe>=2.0 in /Users/shivamraj/anaconda3/lib/python3.11/site-packages (from jinja2->torch) (2.1.1)\n",
      "Requirement already satisfied: mpmath>=0.19 in /Users/shivamraj/anaconda3/lib/python3.11/site-packages (from sympy->torch) (1.3.0)\n"
     ]
    }
   ],
   "source": [
    "!pip install torch\n"
   ]
  },
  {
   "cell_type": "code",
   "execution_count": 2,
   "metadata": {},
   "outputs": [],
   "source": [
    "import torch\n",
    "import torch.nn as nn\n",
    "import torch.optim as optim\n",
    "import numpy as np\n",
    "\n",
    "# Define the neural network model\n",
    "class SimpleNN(nn.Module):\n",
    "    def __init__(self, input_size):\n",
    "        super(SimpleNN, self).__init__()\n",
    "        # One hidden layer, with an output layer\n",
    "        self.hidden = nn.Linear(input_size, 5)  # Hidden layer with 5 units\n",
    "        self.output = nn.Linear(5, 1)  # Output layer with 1 unit\n",
    "\n",
    "    def forward(self, x):\n",
    "        x = torch.sigmoid(self.hidden(x))  # Sigmoid activation in hidden layer\n",
    "        x = torch.sigmoid(self.output(x))  # Sigmoid activation for the output\n",
    "        return x\n",
    "\n",
    "# Initialize the model with 10 inputs\n",
    "input_size = 10\n",
    "model = SimpleNN(input_size)\n"
   ]
  },
  {
   "cell_type": "code",
   "execution_count": 3,
   "metadata": {},
   "outputs": [],
   "source": [
    "# Example data (assuming 10 features per row)\n",
    "# Let's say we have 100 samples, each with 10 features\n",
    "np.random.seed(0)\n",
    "data = np.random.rand(100, 10).astype(np.float32)  # 100 samples, 10 features\n",
    "labels = np.random.rand(100, 1).astype(np.float32)  # Random labels for demonstration\n",
    "\n",
    "# Convert to PyTorch tensors\n",
    "inputs = torch.tensor(data)\n",
    "targets = torch.tensor(labels)\n"
   ]
  },
  {
   "cell_type": "code",
   "execution_count": 4,
   "metadata": {},
   "outputs": [],
   "source": [
    "# Define the loss function and optimizer\n",
    "criterion = nn.MSELoss()\n",
    "optimizer = optim.SGD(model.parameters(), lr=0.01)\n"
   ]
  },
  {
   "cell_type": "code",
   "execution_count": 5,
   "metadata": {},
   "outputs": [
    {
     "name": "stdout",
     "output_type": "stream",
     "text": [
      "Epoch [100/1000], Loss: 0.1154\n",
      "Epoch [200/1000], Loss: 0.1084\n",
      "Epoch [300/1000], Loss: 0.1038\n",
      "Epoch [400/1000], Loss: 0.1009\n",
      "Epoch [500/1000], Loss: 0.0991\n",
      "Epoch [600/1000], Loss: 0.0979\n",
      "Epoch [700/1000], Loss: 0.0973\n",
      "Epoch [800/1000], Loss: 0.0969\n",
      "Epoch [900/1000], Loss: 0.0966\n",
      "Epoch [1000/1000], Loss: 0.0965\n"
     ]
    }
   ],
   "source": [
    "num_epochs = 1000\n",
    "for epoch in range(num_epochs):\n",
    "    # Forward pass\n",
    "    outputs = model(inputs)\n",
    "    loss = criterion(outputs, targets)\n",
    "\n",
    "    # Backward and optimize\n",
    "    optimizer.zero_grad()\n",
    "    loss.backward()\n",
    "    optimizer.step()\n",
    "\n",
    "    if (epoch+1) % 100 == 0:\n",
    "        print(f'Epoch [{epoch+1}/{num_epochs}], Loss: {loss.item():.4f}')\n"
   ]
  },
  {
   "cell_type": "code",
   "execution_count": 6,
   "metadata": {},
   "outputs": [
    {
     "name": "stdout",
     "output_type": "stream",
     "text": [
      "Top ranked rows based on model predictions:\n",
      "[97 54 99 83 49 34 67  5  7 88]\n"
     ]
    }
   ],
   "source": [
    "# Get predictions\n",
    "with torch.no_grad():\n",
    "    predictions = model(inputs)\n",
    "\n",
    "# Convert predictions to a NumPy array and rank rows\n",
    "predictions = predictions.numpy().flatten()\n",
    "ranked_indices = np.argsort(predictions)[::-1]  # Sort in descending order\n",
    "\n",
    "print(\"Top ranked rows based on model predictions:\")\n",
    "print(ranked_indices[:10])  # Show the indices of top 10 ranked rows\n"
   ]
  }
 ],
 "metadata": {
  "kernelspec": {
   "display_name": "base",
   "language": "python",
   "name": "python3"
  },
  "language_info": {
   "codemirror_mode": {
    "name": "ipython",
    "version": 3
   },
   "file_extension": ".py",
   "mimetype": "text/x-python",
   "name": "python",
   "nbconvert_exporter": "python",
   "pygments_lexer": "ipython3",
   "version": "3.11.5"
  },
  "orig_nbformat": 4
 },
 "nbformat": 4,
 "nbformat_minor": 2
}
